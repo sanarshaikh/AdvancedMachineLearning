{
 "cells": [
  {
   "cell_type": "markdown",
   "metadata": {},
   "source": [
    "# CS4662 Lab Assignment 1 - Sana Shaikh"
   ]
  },
  {
   "cell_type": "markdown",
   "metadata": {},
   "source": [
    "### 1- Read the dataset file “Cancer.csv” (from github using the following command), and assign it to a Pandas DataFrame: df  = pd.read_csv(\"https://github.com/mpourhoma/CS4662/raw/master/Cancer.csv\"). Check out the dataset. As you see, the dataset includes 9 numerical features. The last column is the binary label (“1” means it is a malignant cancer, “0” means it is a benign   tumor). You will use all 9 features in this homework.\n",
    "\n"
   ]
  },
  {
   "cell_type": "code",
   "execution_count": 78,
   "metadata": {},
   "outputs": [],
   "source": [
    "import pandas as pd\n",
    "import numpy as np"
   ]
  },
  {
   "cell_type": "code",
   "execution_count": 79,
   "metadata": {},
   "outputs": [
    {
     "data": {
      "text/html": [
       "<div>\n",
       "<style scoped>\n",
       "    .dataframe tbody tr th:only-of-type {\n",
       "        vertical-align: middle;\n",
       "    }\n",
       "\n",
       "    .dataframe tbody tr th {\n",
       "        vertical-align: top;\n",
       "    }\n",
       "\n",
       "    .dataframe thead th {\n",
       "        text-align: right;\n",
       "    }\n",
       "</style>\n",
       "<table border=\"1\" class=\"dataframe\">\n",
       "  <thead>\n",
       "    <tr style=\"text-align: right;\">\n",
       "      <th></th>\n",
       "      <th>Clump_Thickness</th>\n",
       "      <th>Uniformity_of_Cell_Size</th>\n",
       "      <th>Uniformity_of_Cell_Shape</th>\n",
       "      <th>Marginal_Adhesion</th>\n",
       "      <th>Single_Epithelial_Cell_Size</th>\n",
       "      <th>Bare_Nuclei</th>\n",
       "      <th>Bland_Chromatin</th>\n",
       "      <th>Normal_Nucleoli</th>\n",
       "      <th>Mitoses</th>\n",
       "      <th>Malignant_Cancer</th>\n",
       "    </tr>\n",
       "  </thead>\n",
       "  <tbody>\n",
       "    <tr>\n",
       "      <th>0</th>\n",
       "      <td>5</td>\n",
       "      <td>1</td>\n",
       "      <td>1</td>\n",
       "      <td>1</td>\n",
       "      <td>2</td>\n",
       "      <td>1</td>\n",
       "      <td>3</td>\n",
       "      <td>1</td>\n",
       "      <td>1</td>\n",
       "      <td>0</td>\n",
       "    </tr>\n",
       "    <tr>\n",
       "      <th>1</th>\n",
       "      <td>5</td>\n",
       "      <td>4</td>\n",
       "      <td>4</td>\n",
       "      <td>5</td>\n",
       "      <td>7</td>\n",
       "      <td>10</td>\n",
       "      <td>3</td>\n",
       "      <td>2</td>\n",
       "      <td>1</td>\n",
       "      <td>0</td>\n",
       "    </tr>\n",
       "    <tr>\n",
       "      <th>2</th>\n",
       "      <td>3</td>\n",
       "      <td>1</td>\n",
       "      <td>1</td>\n",
       "      <td>1</td>\n",
       "      <td>2</td>\n",
       "      <td>2</td>\n",
       "      <td>3</td>\n",
       "      <td>1</td>\n",
       "      <td>1</td>\n",
       "      <td>0</td>\n",
       "    </tr>\n",
       "    <tr>\n",
       "      <th>3</th>\n",
       "      <td>6</td>\n",
       "      <td>8</td>\n",
       "      <td>8</td>\n",
       "      <td>1</td>\n",
       "      <td>3</td>\n",
       "      <td>4</td>\n",
       "      <td>3</td>\n",
       "      <td>7</td>\n",
       "      <td>1</td>\n",
       "      <td>0</td>\n",
       "    </tr>\n",
       "    <tr>\n",
       "      <th>4</th>\n",
       "      <td>4</td>\n",
       "      <td>1</td>\n",
       "      <td>1</td>\n",
       "      <td>3</td>\n",
       "      <td>2</td>\n",
       "      <td>1</td>\n",
       "      <td>3</td>\n",
       "      <td>1</td>\n",
       "      <td>1</td>\n",
       "      <td>0</td>\n",
       "    </tr>\n",
       "  </tbody>\n",
       "</table>\n",
       "</div>"
      ],
      "text/plain": [
       "   Clump_Thickness  Uniformity_of_Cell_Size  Uniformity_of_Cell_Shape  \\\n",
       "0                5                        1                         1   \n",
       "1                5                        4                         4   \n",
       "2                3                        1                         1   \n",
       "3                6                        8                         8   \n",
       "4                4                        1                         1   \n",
       "\n",
       "   Marginal_Adhesion  Single_Epithelial_Cell_Size  Bare_Nuclei  \\\n",
       "0                  1                            2            1   \n",
       "1                  5                            7           10   \n",
       "2                  1                            2            2   \n",
       "3                  1                            3            4   \n",
       "4                  3                            2            1   \n",
       "\n",
       "   Bland_Chromatin  Normal_Nucleoli  Mitoses  Malignant_Cancer  \n",
       "0                3                1        1                 0  \n",
       "1                3                2        1                 0  \n",
       "2                3                1        1                 0  \n",
       "3                3                7        1                 0  \n",
       "4                3                1        1                 0  "
      ]
     },
     "execution_count": 79,
     "metadata": {},
     "output_type": "execute_result"
    }
   ],
   "source": [
    "cancer_df = pd.read_csv('https://github.com/mpourhoma/CS4662/raw/master/Cancer.csv')\n",
    "\n",
    "# checkout the dataset\n",
    "cancer_df.head()"
   ]
  },
  {
   "cell_type": "code",
   "execution_count": 80,
   "metadata": {},
   "outputs": [
    {
     "name": "stdout",
     "output_type": "stream",
     "text": [
      "   Clump_Thickness  Uniformity_of_Cell_Size  Uniformity_of_Cell_Shape  \\\n",
      "0                5                        1                         1   \n",
      "1                5                        4                         4   \n",
      "2                3                        1                         1   \n",
      "3                6                        8                         8   \n",
      "4                4                        1                         1   \n",
      "\n",
      "   Marginal_Adhesion  Single_Epithelial_Cell_Size  Bare_Nuclei  \\\n",
      "0                  1                            2            1   \n",
      "1                  5                            7           10   \n",
      "2                  1                            2            2   \n",
      "3                  1                            3            4   \n",
      "4                  3                            2            1   \n",
      "\n",
      "   Bland_Chromatin  Normal_Nucleoli  Mitoses  \n",
      "0                3                1        1  \n",
      "1                3                2        1  \n",
      "2                3                1        1  \n",
      "3                3                7        1  \n",
      "4                3                1        1  \n",
      "0    0\n",
      "1    0\n",
      "2    0\n",
      "3    0\n",
      "4    0\n",
      "Name: Malignant_Cancer, dtype: int64\n"
     ]
    }
   ],
   "source": [
    "feature_cols = ['Clump_Thickness','Uniformity_of_Cell_Size','Uniformity_of_Cell_Shape',\n",
    "                'Marginal_Adhesion','Single_Epithelial_Cell_Size','Bare_Nuclei',\n",
    "                'Bland_Chromatin','Normal_Nucleoli','Mitoses']\n",
    "\n",
    "# use the above list to select the features from the original DataFrame\n",
    "X = cancer_df[feature_cols] \n",
    "\n",
    "# select a Series of labels (the last column) from the DataFrame\n",
    "y = cancer_df['Malignant_Cancer']\n",
    "\n",
    "# print the first 5 rows\n",
    "print(X.head())\n",
    "print(y.head())"
   ]
  },
  {
   "cell_type": "code",
   "execution_count": null,
   "metadata": {},
   "outputs": [],
   "source": []
  },
  {
   "cell_type": "markdown",
   "metadata": {},
   "source": [
    "### 2- Use sklearn functions to split the dataset into testing and training sets with the following parameters: test_size=0.3, random_state=2."
   ]
  },
  {
   "cell_type": "code",
   "execution_count": 81,
   "metadata": {},
   "outputs": [
    {
     "name": "stdout",
     "output_type": "stream",
     "text": [
      "(105, 9)\n",
      "(105,)\n",
      "(45, 9)\n",
      "(45,)\n"
     ]
    }
   ],
   "source": [
    "from sklearn.model_selection import train_test_split\n",
    "\n",
    "\n",
    "# Splitting the original dataset into training set and testing set:\n",
    "X_train, X_test, y_train, y_test = train_test_split(X, y, test_size=0.3, random_state=2)\n",
    "\n",
    "# print the size of the traning set:\n",
    "print(X_train.shape)\n",
    "print(y_train.shape)\n",
    "\n",
    "# print the size of the testing set:\n",
    "print(X_test.shape)\n",
    "print(y_test.shape)"
   ]
  },
  {
   "cell_type": "code",
   "execution_count": null,
   "metadata": {},
   "outputs": [],
   "source": []
  },
  {
   "cell_type": "markdown",
   "metadata": {},
   "source": [
    "### 3- Use “Decision Tree Classifier” to predict Cancer based on the training/testing datasets that you built in part (h). Then, calculate and report the accuracy and AUC of your classifier. Later in part (g), you will plot the ROC curve as well. Use this command to define your tree: my_DecisionTree = DecisionTreeClassifier(random_state=2)."
   ]
  },
  {
   "cell_type": "code",
   "execution_count": 82,
   "metadata": {},
   "outputs": [],
   "source": [
    "from sklearn.tree import DecisionTreeClassifier\n",
    "from sklearn.metrics import accuracy_score\n",
    "from sklearn import metrics\n",
    "\n",
    "\n",
    "my_decisiontree = DecisionTreeClassifier(random_state=2)\n",
    "\n",
    "# this trains the model only on the training dataset that we split above\n",
    "my_decisiontree.fit(X_train, y_train)\n",
    "my_dt_predict = my_decisiontree.predict(X_test)\n",
    "\n",
    "# Estimating the probability (likelihood) of Each Label: \n",
    "my_dt_predict_prob = my_decisiontree.predict_proba(X_test)"
   ]
  },
  {
   "cell_type": "code",
   "execution_count": 83,
   "metadata": {},
   "outputs": [
    {
     "name": "stdout",
     "output_type": "stream",
     "text": [
      "Accuracy score using Decision Tree Classifier:  0.8666666666666667\n"
     ]
    }
   ],
   "source": [
    "# Now, testing the accuracy\n",
    "dt_accuracy_score = accuracy_score(y_test, predict)\n",
    "print(\"Accuracy score using Decision Tree Classifier: \", dt_accuracy_score)"
   ]
  },
  {
   "cell_type": "code",
   "execution_count": 84,
   "metadata": {},
   "outputs": [
    {
     "name": "stdout",
     "output_type": "stream",
     "text": [
      "6      0\n",
      "3      0\n",
      "113    1\n",
      "12     1\n",
      "24     1\n",
      "129    1\n",
      "25     1\n",
      "108    1\n",
      "128    0\n",
      "45     1\n",
      "48     1\n",
      "42     1\n",
      "35     1\n",
      "5      1\n",
      "85     1\n",
      "54     1\n",
      "41     0\n",
      "96     0\n",
      "144    0\n",
      "89     1\n",
      "77     0\n",
      "74     0\n",
      "115    0\n",
      "94     0\n",
      "87     1\n",
      "29     1\n",
      "2      0\n",
      "127    0\n",
      "44     0\n",
      "125    1\n",
      "126    0\n",
      "23     1\n",
      "64     1\n",
      "117    0\n",
      "84     1\n",
      "14     1\n",
      "132    1\n",
      "91     1\n",
      "53     1\n",
      "141    0\n",
      "78     1\n",
      "97     1\n",
      "143    0\n",
      "93     1\n",
      "11     1\n",
      "Name: Malignant_Cancer, dtype: int64\n",
      "[0 1 1 1 1 1 1 1 0 0 1 1 1 1 1 1 0 1 0 1 0 0 0 0 0 1 0 0 0 1 0 1 1 0 1 0 0\n",
      " 1 1 0 1 1 0 1 1]\n"
     ]
    }
   ],
   "source": [
    "# This line prints the \"actual label\" of the testing set:\n",
    "print(y_test)\n",
    "\n",
    "# This line prints the \"predicted label\" for the testing set:\n",
    "print(predict)\n"
   ]
  },
  {
   "cell_type": "code",
   "execution_count": 85,
   "metadata": {},
   "outputs": [
    {
     "name": "stdout",
     "output_type": "stream",
     "text": [
      "FPR = [0.         0.11764706 1.        ]\n",
      "TPR = [0.         0.85714286 1.        ]\n",
      "DT_AUC = 0.8697478991596639\n"
     ]
    }
   ],
   "source": [
    "from sklearn import metrics\n",
    "\n",
    "dt_fpr, dt_tpr, dt_thresholds = metrics.roc_curve(y_test, y_predict_prob_dt[:,1], pos_label=1)\n",
    "\n",
    "print(\"FPR =\", dt_fpr)\n",
    "print(\"TPR =\", dt_tpr)\n",
    "\n",
    "dt_AUC = metrics.auc(dt_fpr, dt_tpr)\n",
    "print(\"DT_AUC =\", dt_AUC)"
   ]
  },
  {
   "cell_type": "code",
   "execution_count": null,
   "metadata": {},
   "outputs": [],
   "source": []
  },
  {
   "cell_type": "markdown",
   "metadata": {},
   "source": [
    "### 4- Now, we want to perform “Bagging” based on 29 “base decision tree classifiers”.\n",
    "\n",
    "Note: you should write your own code to perform Bagging (don’t use scikit-learn functions for Bagging!)\n",
    "\n",
    "To do so, you need to perform bootstrapping first. You can write a “for” loop with loop variable i=0…18.  In each iteration of the loop, you have to:\n",
    "\n",
    "make a bootstarp sample of the original “Training” Dataset (build in part(b)) with size of bootstarp_size = 0.8*(Size of the original dataset). You can use the following command to generate a random bootstrap dataset (“i\" is the variable of the loop, so the random_state changes in each iteration):\n",
    "resample(X_train, n_samples = bootstarp_size , random_state=i , replace = True)\n",
    "\n",
    "Define and train a new base decision tree classifier on this dataset in each iteration:\n",
    "Base_DecisionTree = DecisionTreeClassifier(random_state=2).\n",
    "\n",
    "Test “this base classifier” on the original “Testing” Dataset build in part(b), and save the prediction results for all testing samples.\n",
    " \n",
    "\n",
    "Then, Perform Voting to make the final decision on each data sample based on the votes of all 29 classifiers. Finally, calculate and report the accuracy and AUC of your Bagging method.\n",
    "\n",
    "NOTE: You need to calculate the probability of “malignant cancer” to be able to find AUC and plot the ROC curve. As mentioned in the class, you can consider the average (mean) of the votes as the probability for each sample."
   ]
  },
  {
   "cell_type": "code",
   "execution_count": 86,
   "metadata": {},
   "outputs": [],
   "source": [
    "from sklearn.utils import resample\n",
    "\n",
    "base_dt_predictions = []\n",
    "bootstarp_size = int(0.8 * len(X_train))\n",
    "\n",
    "for i in range(29):\n",
    "    X = resample(X_train, n_samples = bootstarp_size, random_state = i, replace = True)\n",
    "    y = resample(y_train, n_samples = bootstarp_size, random_state = i, replace = True)\n",
    "    \n",
    "    Base_DecisionTree = DecisionTreeClassifier(random_state = 2)\n",
    "    Base_DecisionTree.fit(X, y)\n",
    "    \n",
    "    #testing only on testing set\n",
    "    Base_DecisionTree_predict = Base_DecisionTree.predict(X_test)\n",
    "    \n",
    "    base_dt_predictions.append(Base_DecisionTree_predict)"
   ]
  },
  {
   "cell_type": "code",
   "execution_count": 87,
   "metadata": {},
   "outputs": [
    {
     "name": "stdout",
     "output_type": "stream",
     "text": [
      "Tree Accuracy Score for bagging is:  0.9111111111111111\n",
      "FPR = [0.         0.05882353 1.        ]\n",
      "TPR = [0.         0.89285714 1.        ]\n",
      "The AUC for Bagging is:  0.917016806722689\n"
     ]
    }
   ],
   "source": [
    "bagging_accuracy_score = accuracy_score(y_test, Base_DecisionTree_predict)\n",
    "print(\"Tree Accuracy Score for bagging is: \", bagging_accuracy_score)\n",
    "\n",
    "bagging_predict_prob = Base_DecisionTree.predict_proba(X_test)\n",
    "\n",
    "bag_fpr, bag_tpr, bag_thresholds = metrics.roc_curve(y_test, bagging_predict_prob[:,1], pos_label = 1)\n",
    "\n",
    "print(\"FPR =\", bag_fpr)\n",
    "print(\"TPR =\", bag_tpr)\n",
    "\n",
    "bag_AUC = metrics.auc(bag_fpr, bag_tpr)\n",
    "print(\"The AUC for Bagging is: \", bag_AUC)"
   ]
  },
  {
   "cell_type": "code",
   "execution_count": null,
   "metadata": {},
   "outputs": [],
   "source": []
  },
  {
   "cell_type": "markdown",
   "metadata": {},
   "source": [
    "### 5- Use scikit-learn “Adaboost” classifier to predict Cancer based on the training/testing datasets that you built in part (b). Then, calculate and report the accuracy and AUC of your classifier. Use this command to import and define your classifier:\n",
    "\n",
    "from   sklearn.ensemble   import     AdaBoostClassifier\n",
    "\n",
    "my_AdaBoost = AdaBoostClassifier(n_estimators = 29,random_state=2)"
   ]
  },
  {
   "cell_type": "code",
   "execution_count": 88,
   "metadata": {},
   "outputs": [
    {
     "name": "stdout",
     "output_type": "stream",
     "text": [
      "The accuracy score for AdaBoost is:  0.9555555555555556\n",
      "FPR = [0.         0.         0.         0.         0.         0.\n",
      " 0.         0.05882353 0.05882353 0.11764706 0.11764706 0.35294118\n",
      " 0.52941176 1.        ]\n",
      "TPR = [0.         0.03571429 0.10714286 0.21428571 0.25       0.35714286\n",
      " 0.42857143 0.46428571 0.96428571 0.96428571 1.         1.\n",
      " 1.         1.        ]\n",
      "The AUC for AdaBoost is:  0.9653361344537815\n"
     ]
    }
   ],
   "source": [
    "from sklearn.ensemble import AdaBoostClassifier\n",
    "\n",
    "my_AdaBoost = AdaBoostClassifier(n_estimators=29,random_state=2)\n",
    "\n",
    "my_AdaBoost.fit(X_train,y_train)\n",
    "my_AdaBoost_predict = my_AdaBoost.predict(X_test)\n",
    "\n",
    "my_AdaBoost_predict_prob = my_AdaBoost.predict_proba(X_test)\n",
    "AdaBoost_accuracy_score = accuracy_score(y_test, my_AdaBoost_predict)\n",
    "\n",
    "print(\"The accuracy score for AdaBoost is: \", AdaBoost_accuracy_score)\n",
    "\n",
    "ada_fpr, ada_tpr, ada_thresholds = metrics.roc_curve(y_test, my_AdaBoost_predict_prob[:,1], pos_label=1)\n",
    "\n",
    "print(\"FPR =\", ada_fpr)\n",
    "print(\"TPR =\", ada_tpr)\n",
    "\n",
    "AdaBoost_AUC = metrics.auc(ada_fpr, ada_tpr)\n",
    "print(\"The AUC for AdaBoost is: \", AdaBoost_AUC)"
   ]
  },
  {
   "cell_type": "code",
   "execution_count": null,
   "metadata": {},
   "outputs": [],
   "source": []
  },
  {
   "cell_type": "markdown",
   "metadata": {},
   "source": [
    "### 6- In this section, we use an extremely popular Boosting algorithm called “XGBoost”. This algorithm is not included in sklearn, so you need to install the XGBoost library. Please see this for more infor: https://xgboost.readthedocs.io/en/latest/build.html (Links to an external site.)\n",
    "\n",
    "Mac users can easily install it with “pip install xgboost”.\n",
    "\n",
    "Repeat part (e) with XGBoost. Use this command to import and define your classifier:\n",
    "\n",
    "from   xgboost   import   XGBClassifier\n",
    "\n",
    "my_XGBoost = XGBClassifier(n_estimators = 29,random_state=2)"
   ]
  },
  {
   "cell_type": "code",
   "execution_count": 89,
   "metadata": {},
   "outputs": [
    {
     "name": "stdout",
     "output_type": "stream",
     "text": [
      "[21:18:33] WARNING: /Users/travis/build/dmlc/xgboost/src/learner.cc:1061: Starting in XGBoost 1.3.0, the default evaluation metric used with the objective 'binary:logistic' was changed from 'error' to 'logloss'. Explicitly set eval_metric if you'd like to restore the old behavior.\n",
      "The accuracy score for XGB is:  0.9555555555555556\n",
      "FPR = [0.         0.         0.         0.         0.         0.05882353\n",
      " 0.05882353 0.23529412 0.35294118 0.52941176 1.        ]\n",
      "TPR = [0.         0.03571429 0.10714286 0.21428571 0.5        0.53571429\n",
      " 1.         1.         1.         1.         1.        ]\n",
      "The AUC for XGB is:  0.9716386554621849\n"
     ]
    }
   ],
   "source": [
    "from xgboost import XGBClassifier\n",
    "\n",
    "my_XGBoost = XGBClassifier(n_estimators=29,random_state=2,use_label_encoder=False)\n",
    "\n",
    "my_XGBoost.fit(X_train,y_train)\n",
    "my_XGBoost_predict = my_XGBoost.predict(X_test)\n",
    "\n",
    "my_XGBoost_predict_prob = my_XGBoost.predict_proba(X_test)\n",
    "XBG_accuracy_score = accuracy_score(y_test, my_XGBoost_predict)\n",
    "\n",
    "print(\"The accuracy score for XGB is: \",XBG_accuracy_score)\n",
    "\n",
    "XGB_fpr, XGB_tpr, XGB_thresholds = metrics.roc_curve(y_test, my_XGBoost_predict_prob[:,1],pos_label=1)\n",
    "\n",
    "print('FPR =', XGB_fpr)\n",
    "print(\"TPR =\", XGB_tpr)\n",
    "\n",
    "XGB_AUC = metrics.auc(XGB_fpr, XGB_tpr)\n",
    "print(\"The AUC for XGB is: \", XGB_AUC)"
   ]
  },
  {
   "cell_type": "code",
   "execution_count": null,
   "metadata": {},
   "outputs": [],
   "source": []
  },
  {
   "cell_type": "markdown",
   "metadata": {},
   "source": [
    "### 7- Use scikit-learn “Random Forest” classifier to predict Cancer based on the training/testing datasets that you built in part (b). Then, calculate and report the accuracy and AUC of your classifier. Use this command to import and define your classifier:\n",
    "\n",
    "from   sklearn.ensemble    import    RandomForestClassifier\n",
    "\n",
    "my_RandomForest = RandomForestClassifier(n_estimators = 29, bootstrap = True, random_state=2)"
   ]
  },
  {
   "cell_type": "code",
   "execution_count": 90,
   "metadata": {},
   "outputs": [
    {
     "name": "stdout",
     "output_type": "stream",
     "text": [
      "The accuracy score for Random Forest is:  0.9555555555555556\n",
      "FPR = [0.         0.05882353 0.05882353 0.05882353 0.05882353 0.05882353\n",
      " 0.05882353 0.29411765 1.        ]\n",
      "TPR = [0.         0.35714286 0.60714286 0.67857143 0.71428571 0.92857143\n",
      " 1.         1.         1.        ]\n",
      "The AUC for Random Forest is:  0.9516806722689075\n"
     ]
    }
   ],
   "source": [
    "from sklearn.ensemble import RandomForestClassifier\n",
    "\n",
    "my_RandomForest = RandomForestClassifier(n_estimators=29,bootstrap = True,random_state=2)\n",
    "\n",
    "my_RandomForest.fit(X_train,y_train)\n",
    "my_rf_predict = my_RandomForest.predict(X_test)\n",
    "\n",
    "my_rf_predict_prob = my_RandomForest.predict_proba(X_test)\n",
    "my_rf_accuracy_score = accuracy_score(y_test, my_rf_predict)\n",
    "print(\"The accuracy score for Random Forest is: \", my_rf_accuracy_score)\n",
    "\n",
    "rf_fpr, rf_tpr, rf_thresholds = metrics.roc_curve(y_test, my_rf_predict_prob[:,1],pos_label=1)\n",
    "\n",
    "print('FPR =', rf_fpr)\n",
    "print(\"TPR =\", rf_tpr)\n",
    "\n",
    "rf_AUC = metrics.auc(rf_fpr, rf_tpr)\n",
    "print(\"The AUC for Random Forest is: \", rf_AUC)"
   ]
  },
  {
   "cell_type": "code",
   "execution_count": null,
   "metadata": {},
   "outputs": [],
   "source": []
  },
  {
   "cell_type": "markdown",
   "metadata": {},
   "source": [
    "### 8- Now, plot the ROC curves of your algorithms in parts (c), (d), (e), (f), (g) in a single plane with different colors along with the name of each method. Show the AUCs on the graph as well.\n",
    "\n",
    "Which algorithm is the best w.r.t the AUC value? \n",
    "\n",
    "Which algorithm is the best w.r.t the Accuracy value? \n",
    "\n",
    "Which algorithm is the best when we want a False Positive Rate of %7? "
   ]
  },
  {
   "cell_type": "code",
   "execution_count": 91,
   "metadata": {},
   "outputs": [
    {
     "data": {
      "image/png": "[encoded data removed]",
      "text/plain": [
       "<Figure size 432x288 with 1 Axes>"
      ]
     },
     "metadata": {
      "needs_background": "light"
     },
     "output_type": "display_data"
    }
   ],
   "source": [
    "import matplotlib.pyplot as plt\n",
    "\n",
    "%matplotlib inline\n",
    "plt.figure()\n",
    "\n",
    "plt.plot(dt_fpr, dt_tpr, color = 'red', lw = 2, label = 'Decision Tree (area = %0.2f)' % dt_AUC)\n",
    "plt.plot(bag_fpr, bag_tpr, color = 'blue', lw = 2, label = 'Voting  (area = %0.2f)' % bag_AUC)\n",
    "plt.plot(ada_fpr, ada_tpr, color = 'green', lw = 2, label = 'AdaBoost (area = %0.2f)' % AdaBoost_AUC)\n",
    "plt.plot(XGB_fpr, XGB_tpr, color = 'orange', lw = 2, label = ' XGBoost (area = %0.2f)' % XGB_AUC)\n",
    "plt.plot(rf_fpr, rf_tpr, color = 'purple', lw = 2, label = 'RandomForest (area = %0.2f)' % rf_AUC)\n",
    "\n",
    "#Create a dotted random guess line:\n",
    "plt.plot([0, 1], [0, 1], color = 'cyan', lw = 1, linestyle = '--')\n",
    "\n",
    "# Define X and Y axes range\n",
    "plt.xlim([-0.005, 1.005])\n",
    "plt.ylim([0.0, 1.01])\n",
    "\n",
    "plt.xlabel('False Positive Rate')\n",
    "plt.ylabel('True Positive Rate')\n",
    "plt.title('Cancer Predicter')\n",
    "plt.legend(loc = \"lower right\")\n",
    "\n",
    "plt.show()"
   ]
  },
  {
   "cell_type": "markdown",
   "metadata": {},
   "source": [
    "#### The best algorithm w.r.t the AUC value is XGBoost. \n",
    "#### The best algorithms w.r.t the Accuracy value are AdaBoost, XGBoost, and Random Forest. They all have a score of about 96%.\n",
    "#### The best algorithm for when we want a FPR of 7% is Random Forest."
   ]
  },
  {
   "cell_type": "code",
   "execution_count": null,
   "metadata": {},
   "outputs": [],
   "source": []
  }
 ],
 "metadata": {
  "kernelspec": {
   "display_name": "Python 3",
   "language": "python",
   "name": "python3"
  },
  "language_info": {
   "codemirror_mode": {
    "name": "ipython",
    "version": 3
   },
   "file_extension": ".py",
   "mimetype": "text/x-python",
   "name": "python",
   "nbconvert_exporter": "python",
   "pygments_lexer": "ipython3",
   "version": "3.8.2"
  }
 },
 "nbformat": 4,
 "nbformat_minor": 4
}
