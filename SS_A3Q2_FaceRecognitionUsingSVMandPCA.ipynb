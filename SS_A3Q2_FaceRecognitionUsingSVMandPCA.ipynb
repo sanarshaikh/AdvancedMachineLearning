{
 "cells": [
  {
   "cell_type": "markdown",
   "id": "awful-reverse",
   "metadata": {},
   "source": [
    "# Sana Shaikh - Assignment 3"
   ]
  },
  {
   "cell_type": "markdown",
   "id": "supreme-claim",
   "metadata": {},
   "source": [
    "## Problem 2: Face Recognition Using SVM and PCA: "
   ]
  },
  {
   "cell_type": "markdown",
   "id": "important-member",
   "metadata": {},
   "source": [
    "a) Download the dataset “Face” from this link:  https://drive.google.com/drive/folders/14Mi1I91iVQ13PG0SPjh9wN5NSNlBb3rb?usp=sharing (Links to an external site.)\n",
    "\n",
    "Check out the dataset. This is an image dataset from AT&T research lab. It includes 400 faces (64x64 pixels) from 40 people (10 images per person).\n",
    "\n",
    "You have to also download the csv file that includes the labels of the images (the label is person’s ID. The file is in the same folder). The goal is to build a Face Recognition algorithm to recognize each person using PCA dim-reduction and a non-linear SVM.\n",
    "\n",
    "you can use:\n",
    "\n",
    "mpimg.imread(file_name)   to load an image, and\n",
    "\n",
    "plt.imshow(image_name, cmap=plt.cm.gray)  to show an image (This is a little different from what we had before!). Add   %matplotlib inline   at top of your code to make sure that the images will be shown inside the Jupyter explorer page."
   ]
  },
  {
   "cell_type": "code",
   "execution_count": 83,
   "id": "interesting-blues",
   "metadata": {},
   "outputs": [
    {
     "data": {
      "text/html": [
       "<div>\n",
       "<style scoped>\n",
       "    .dataframe tbody tr th:only-of-type {\n",
       "        vertical-align: middle;\n",
       "    }\n",
       "\n",
       "    .dataframe tbody tr th {\n",
       "        vertical-align: top;\n",
       "    }\n",
       "\n",
       "    .dataframe thead th {\n",
       "        text-align: right;\n",
       "    }\n",
       "</style>\n",
       "<table border=\"1\" class=\"dataframe\">\n",
       "  <thead>\n",
       "    <tr style=\"text-align: right;\">\n",
       "      <th></th>\n",
       "      <th>Label</th>\n",
       "    </tr>\n",
       "  </thead>\n",
       "  <tbody>\n",
       "    <tr>\n",
       "      <th>0</th>\n",
       "      <td>13</td>\n",
       "    </tr>\n",
       "    <tr>\n",
       "      <th>1</th>\n",
       "      <td>30</td>\n",
       "    </tr>\n",
       "    <tr>\n",
       "      <th>2</th>\n",
       "      <td>34</td>\n",
       "    </tr>\n",
       "    <tr>\n",
       "      <th>3</th>\n",
       "      <td>19</td>\n",
       "    </tr>\n",
       "    <tr>\n",
       "      <th>4</th>\n",
       "      <td>24</td>\n",
       "    </tr>\n",
       "  </tbody>\n",
       "</table>\n",
       "</div>"
      ],
      "text/plain": [
       "   Label\n",
       "0     13\n",
       "1     30\n",
       "2     34\n",
       "3     19\n",
       "4     24"
      ]
     },
     "execution_count": 83,
     "metadata": {},
     "output_type": "execute_result"
    }
   ],
   "source": [
    "import pandas as pd\n",
    "import numpy as np\n",
    "\n",
    "faces_df = pd.read_csv('/Users/sanarshaikh/Downloads/Face/label.csv')\n",
    "faces_df.head()"
   ]
  },
  {
   "cell_type": "code",
   "execution_count": 84,
   "id": "stuffed-myanmar",
   "metadata": {},
   "outputs": [
    {
     "name": "stdout",
     "output_type": "stream",
     "text": [
      "Index(['Label'], dtype='object')\n"
     ]
    },
    {
     "data": {
      "text/plain": [
       "400"
      ]
     },
     "execution_count": 84,
     "metadata": {},
     "output_type": "execute_result"
    }
   ],
   "source": [
    "columns = faces_df.columns\n",
    "print (columns)\n",
    "\n",
    "y = faces_df['Label']\n",
    "#y[0::30]\n",
    "\n",
    "faces_df.shape[0]"
   ]
  },
  {
   "cell_type": "code",
   "execution_count": 85,
   "id": "chicken-transcription",
   "metadata": {},
   "outputs": [],
   "source": [
    "import matplotlib.pyplot as plt\n",
    "import matplotlib.image as mpimg\n",
    "%matplotlib inline"
   ]
  },
  {
   "cell_type": "code",
   "execution_count": 86,
   "id": "formed-acquisition",
   "metadata": {},
   "outputs": [
    {
     "data": {
      "image/png": "[encoded data removed]",
      "text/plain": [
       "<Figure size 432x288 with 1 Axes>"
      ]
     },
     "metadata": {
      "needs_background": "light"
     },
     "output_type": "display_data"
    },
    {
     "name": "stdout",
     "output_type": "stream",
     "text": [
      "400\n"
     ]
    }
   ],
   "source": [
    "list = []\n",
    "for i in range (0, 400):\n",
    "    list.append(mpimg.imread('/Users/sanarshaikh/Downloads/Face/' + str(i) + '.jpg'))\n",
    "\n",
    "plt.imshow(list[0], cmap = plt.cm.gray)\n",
    "plt.show()\n",
    "print(len(list))"
   ]
  },
  {
   "cell_type": "code",
   "execution_count": null,
   "id": "deluxe-handy",
   "metadata": {},
   "outputs": [],
   "source": []
  },
  {
   "cell_type": "markdown",
   "id": "adapted-stevens",
   "metadata": {},
   "source": [
    "b) Build the feature matrix and label vector: Each image is considered as a data sample with pixels as features. Thus, to build the feature table you have to convert each 64x64 image into a row of the feature matrix with 4096 columns (i.e 4096 features for 4096 pixels)."
   ]
  },
  {
   "cell_type": "code",
   "execution_count": 87,
   "id": "standing-purpose",
   "metadata": {},
   "outputs": [
    {
     "data": {
      "text/html": [
       "<div>\n",
       "<style scoped>\n",
       "    .dataframe tbody tr th:only-of-type {\n",
       "        vertical-align: middle;\n",
       "    }\n",
       "\n",
       "    .dataframe tbody tr th {\n",
       "        vertical-align: top;\n",
       "    }\n",
       "\n",
       "    .dataframe thead th {\n",
       "        text-align: right;\n",
       "    }\n",
       "</style>\n",
       "<table border=\"1\" class=\"dataframe\">\n",
       "  <thead>\n",
       "    <tr style=\"text-align: right;\">\n",
       "      <th></th>\n",
       "      <th>0</th>\n",
       "      <th>1</th>\n",
       "      <th>2</th>\n",
       "      <th>3</th>\n",
       "      <th>4</th>\n",
       "      <th>5</th>\n",
       "      <th>6</th>\n",
       "      <th>7</th>\n",
       "      <th>8</th>\n",
       "      <th>9</th>\n",
       "      <th>...</th>\n",
       "      <th>4086</th>\n",
       "      <th>4087</th>\n",
       "      <th>4088</th>\n",
       "      <th>4089</th>\n",
       "      <th>4090</th>\n",
       "      <th>4091</th>\n",
       "      <th>4092</th>\n",
       "      <th>4093</th>\n",
       "      <th>4094</th>\n",
       "      <th>4095</th>\n",
       "    </tr>\n",
       "  </thead>\n",
       "  <tbody>\n",
       "    <tr>\n",
       "      <th>0</th>\n",
       "      <td>186</td>\n",
       "      <td>183</td>\n",
       "      <td>179</td>\n",
       "      <td>190</td>\n",
       "      <td>212</td>\n",
       "      <td>219</td>\n",
       "      <td>221</td>\n",
       "      <td>232</td>\n",
       "      <td>230</td>\n",
       "      <td>231</td>\n",
       "      <td>...</td>\n",
       "      <td>56</td>\n",
       "      <td>45</td>\n",
       "      <td>47</td>\n",
       "      <td>18</td>\n",
       "      <td>0</td>\n",
       "      <td>8</td>\n",
       "      <td>15</td>\n",
       "      <td>9</td>\n",
       "      <td>3</td>\n",
       "      <td>5</td>\n",
       "    </tr>\n",
       "    <tr>\n",
       "      <th>1</th>\n",
       "      <td>204</td>\n",
       "      <td>198</td>\n",
       "      <td>194</td>\n",
       "      <td>195</td>\n",
       "      <td>198</td>\n",
       "      <td>195</td>\n",
       "      <td>190</td>\n",
       "      <td>186</td>\n",
       "      <td>190</td>\n",
       "      <td>193</td>\n",
       "      <td>...</td>\n",
       "      <td>19</td>\n",
       "      <td>0</td>\n",
       "      <td>29</td>\n",
       "      <td>52</td>\n",
       "      <td>90</td>\n",
       "      <td>146</td>\n",
       "      <td>130</td>\n",
       "      <td>120</td>\n",
       "      <td>164</td>\n",
       "      <td>167</td>\n",
       "    </tr>\n",
       "    <tr>\n",
       "      <th>2</th>\n",
       "      <td>86</td>\n",
       "      <td>79</td>\n",
       "      <td>82</td>\n",
       "      <td>95</td>\n",
       "      <td>100</td>\n",
       "      <td>102</td>\n",
       "      <td>121</td>\n",
       "      <td>146</td>\n",
       "      <td>169</td>\n",
       "      <td>179</td>\n",
       "      <td>...</td>\n",
       "      <td>160</td>\n",
       "      <td>167</td>\n",
       "      <td>179</td>\n",
       "      <td>169</td>\n",
       "      <td>192</td>\n",
       "      <td>188</td>\n",
       "      <td>197</td>\n",
       "      <td>189</td>\n",
       "      <td>185</td>\n",
       "      <td>141</td>\n",
       "    </tr>\n",
       "    <tr>\n",
       "      <th>3</th>\n",
       "      <td>61</td>\n",
       "      <td>90</td>\n",
       "      <td>98</td>\n",
       "      <td>119</td>\n",
       "      <td>144</td>\n",
       "      <td>156</td>\n",
       "      <td>174</td>\n",
       "      <td>177</td>\n",
       "      <td>183</td>\n",
       "      <td>195</td>\n",
       "      <td>...</td>\n",
       "      <td>119</td>\n",
       "      <td>244</td>\n",
       "      <td>246</td>\n",
       "      <td>168</td>\n",
       "      <td>126</td>\n",
       "      <td>187</td>\n",
       "      <td>162</td>\n",
       "      <td>145</td>\n",
       "      <td>58</td>\n",
       "      <td>18</td>\n",
       "    </tr>\n",
       "    <tr>\n",
       "      <th>4</th>\n",
       "      <td>99</td>\n",
       "      <td>134</td>\n",
       "      <td>165</td>\n",
       "      <td>183</td>\n",
       "      <td>201</td>\n",
       "      <td>210</td>\n",
       "      <td>215</td>\n",
       "      <td>224</td>\n",
       "      <td>232</td>\n",
       "      <td>236</td>\n",
       "      <td>...</td>\n",
       "      <td>83</td>\n",
       "      <td>90</td>\n",
       "      <td>94</td>\n",
       "      <td>90</td>\n",
       "      <td>70</td>\n",
       "      <td>41</td>\n",
       "      <td>71</td>\n",
       "      <td>103</td>\n",
       "      <td>92</td>\n",
       "      <td>117</td>\n",
       "    </tr>\n",
       "  </tbody>\n",
       "</table>\n",
       "<p>5 rows × 4096 columns</p>\n",
       "</div>"
      ],
      "text/plain": [
       "     0    1    2    3    4    5    6    7    8    9  ... 4086 4087 4088 4089  \\\n",
       "0  186  183  179  190  212  219  221  232  230  231  ...   56   45   47   18   \n",
       "1  204  198  194  195  198  195  190  186  190  193  ...   19    0   29   52   \n",
       "2   86   79   82   95  100  102  121  146  169  179  ...  160  167  179  169   \n",
       "3   61   90   98  119  144  156  174  177  183  195  ...  119  244  246  168   \n",
       "4   99  134  165  183  201  210  215  224  232  236  ...   83   90   94   90   \n",
       "\n",
       "  4090 4091 4092 4093 4094 4095  \n",
       "0    0    8   15    9    3    5  \n",
       "1   90  146  130  120  164  167  \n",
       "2  192  188  197  189  185  141  \n",
       "3  126  187  162  145   58   18  \n",
       "4   70   41   71  103   92  117  \n",
       "\n",
       "[5 rows x 4096 columns]"
      ]
     },
     "execution_count": 87,
     "metadata": {},
     "output_type": "execute_result"
    }
   ],
   "source": [
    "features = []\n",
    "for j in range(4096):\n",
    "    features.append(str(j))\n",
    "faces_df = pd.DataFrame(columns = features)\n",
    "\n",
    "for k in range(400):\n",
    "    pixels = list[k].flatten() #to flatten array of images to one dimension\n",
    "    faces_df.loc[k] = pixels #to access rows of data using labels\n",
    "\n",
    "faces_df.head()"
   ]
  },
  {
   "cell_type": "code",
   "execution_count": null,
   "id": "photographic-machinery",
   "metadata": {},
   "outputs": [],
   "source": []
  },
  {
   "cell_type": "markdown",
   "id": "detected-advocate",
   "metadata": {},
   "source": [
    "c) Normalize each column of your feature matrix using preprocessing.scale (This step is very important!)."
   ]
  },
  {
   "cell_type": "code",
   "execution_count": 88,
   "id": "proprietary-combine",
   "metadata": {},
   "outputs": [],
   "source": [
    "X = faces_df\n",
    "# y is already defined above"
   ]
  },
  {
   "cell_type": "code",
   "execution_count": 89,
   "id": "wireless-foundation",
   "metadata": {},
   "outputs": [
    {
     "name": "stdout",
     "output_type": "stream",
     "text": [
      "       0         1         2         3         4         5         6     \\\n",
      "0  1.376496  1.118853  0.796104  0.763445  0.958018  0.942786  0.847410   \n",
      "1  1.681134  1.365414  1.035702  0.843617  0.725408  0.521762  0.264739   \n",
      "2 -0.315935 -0.590637 -0.753296 -0.759837 -0.902856 -1.109705 -1.032173   \n",
      "3 -0.739042 -0.409826 -0.497725 -0.375008 -0.171799 -0.162401 -0.035994   \n",
      "4 -0.095919  0.313420  0.572479  0.651203  0.775253  0.784902  0.734635   \n",
      "\n",
      "       7         8         9     ...      4086      4087      4088      4089  \\\n",
      "0  0.960266  0.840342  0.820069  ... -0.710060 -0.846611 -0.792436 -1.207042   \n",
      "1  0.020081 -0.018794 -0.027663  ... -1.423446 -1.628179 -1.105583 -0.636535   \n",
      "2 -0.797471 -0.469840 -0.339985  ...  1.295133  1.272305  1.503976  1.326681   \n",
      "3 -0.163868 -0.169142  0.016955  ...  0.504624  2.609654  2.669579  1.309901   \n",
      "4  0.796756  0.883299  0.931612  ... -0.189481 -0.065044  0.025226  0.001091   \n",
      "\n",
      "       4090      4091      4092      4093      4094      4095  \n",
      "0 -1.450476 -1.283186 -1.106845 -1.170946 -1.247265 -1.217120  \n",
      "1  0.080459  1.022764  0.756599  0.687101  1.485583  1.582346  \n",
      "2  1.815519  1.724575  1.842258  1.842103  1.842041  1.133049  \n",
      "3  0.692833  1.707865  1.275123  1.105580 -0.313683 -0.992471  \n",
      "4 -0.259749 -0.731763 -0.199429  0.402535  0.263440  0.718314  \n",
      "\n",
      "[5 rows x 4096 columns]\n"
     ]
    }
   ],
   "source": [
    "from sklearn import preprocessing\n",
    "\n",
    "scale_X = preprocessing.scale(X)\n",
    "scaled_X = pd.DataFrame(scale_X)\n",
    "\n",
    "print(scaled_X.head())"
   ]
  },
  {
   "cell_type": "code",
   "execution_count": null,
   "id": "concerned-string",
   "metadata": {},
   "outputs": [],
   "source": []
  },
  {
   "cell_type": "markdown",
   "id": "floating-serbia",
   "metadata": {},
   "source": [
    "d) Use sklearn functions to split the normalized dataset into testing and training sets with the following parameters: test_size=0.25, random_state=5."
   ]
  },
  {
   "cell_type": "code",
   "execution_count": 90,
   "id": "polish-update",
   "metadata": {},
   "outputs": [
    {
     "name": "stdout",
     "output_type": "stream",
     "text": [
      "(300, 4096)\n",
      "(300,)\n",
      "(100, 4096)\n",
      "(100,)\n"
     ]
    }
   ],
   "source": [
    "from sklearn.model_selection import train_test_split\n",
    "\n",
    "X_train, X_test, y_train, y_test = train_test_split(scaled_X, y, test_size = 0.25, random_state = 5)\n",
    "\n",
    "print(X_train.shape)\n",
    "print(y_train.shape)\n",
    "\n",
    "print(X_test.shape)\n",
    "print(y_test.shape)"
   ]
  },
  {
   "cell_type": "code",
   "execution_count": null,
   "id": "boring-truth",
   "metadata": {},
   "outputs": [],
   "source": []
  },
  {
   "cell_type": "markdown",
   "id": "packed-twelve",
   "metadata": {},
   "source": [
    "e) The dimensionality of the data samples is 4096. Use PCA (Principal Component Analysis) to reduce the dimensionality from 4096 to 50 (i.e. only k=50 principal components!). You should “fit” your PCA on your training set only, and then use this fitted model to “transform” both training and testing sets (When you finish this step, the number of columns in your testing and training sets should be 50). You can use this format:\n",
    "\n",
    "from  sklearn.decomposition  import  PCA\n",
    "\n",
    "k = 50  #  k  is the number of components (new features) after dimensionality reduction\n",
    "\n",
    "my_pca = PCA(n_components = k)\n",
    "\n",
    "#### X_Train is feature matrix of training set before dimensionality reduction, \n",
    "\n",
    "#### X_Train_New is feature matrix of training set after dimensionality reduction:\n",
    "\n",
    "X_Train_new = my_pca. fit_transform(X_Train)\n",
    "\n",
    "X_Test_new = my_pca. transform(X_Test)"
   ]
  },
  {
   "cell_type": "code",
   "execution_count": 91,
   "id": "meaningful-italian",
   "metadata": {},
   "outputs": [
    {
     "name": "stdout",
     "output_type": "stream",
     "text": [
      "(300, 50)\n",
      "(100, 50)\n"
     ]
    }
   ],
   "source": [
    "from sklearn.decomposition import PCA\n",
    "k = 50 #(new features)\n",
    "my_pca = PCA(n_components = k)\n",
    "\n",
    "X_Train_new = my_pca.fit_transform(X_train)\n",
    "X_Test_new = my_pca.transform(X_test)\n",
    "\n",
    "print(X_Train_new.shape)\n",
    "print(X_Test_new.shape)"
   ]
  },
  {
   "cell_type": "code",
   "execution_count": null,
   "id": "multiple-tongue",
   "metadata": {},
   "outputs": [],
   "source": []
  },
  {
   "cell_type": "markdown",
   "id": "expanded-privacy",
   "metadata": {},
   "source": [
    "f) Design and Train a non-linear SVM classifier with “RBF Kernel” to recognize the face based on the training dataset that you built. Use SVC(C=1, kernel='rbf', gamma=0.0005, random_state=1). Then, Test your SVM on testing set, and calculate and report the accuracy. Also, calculate and report the Confusion Matrix using confusion_matrix(y_test, y_predict)."
   ]
  },
  {
   "cell_type": "code",
   "execution_count": 92,
   "id": "mature-memorial",
   "metadata": {},
   "outputs": [],
   "source": [
    "from sklearn.svm import SVC\n",
    "\n",
    "my_SVM = SVC(C = 1, kernel = 'rbf', gamma = 0.0005, random_state = 1)\n",
    "\n",
    "my_SVM.fit(X_Train_new, y_train)\n",
    "y_predict = my_SVM.predict(X_Test_new)"
   ]
  },
  {
   "cell_type": "code",
   "execution_count": 93,
   "id": "nutritional-ontario",
   "metadata": {},
   "outputs": [
    {
     "name": "stdout",
     "output_type": "stream",
     "text": [
      "The SVM accuracy score is:  0.91\n"
     ]
    }
   ],
   "source": [
    "from sklearn.metrics import accuracy_score\n",
    "\n",
    "SVM_accuracy = accuracy_score(y_test, y_predict)\n",
    "print(\"The SVM accuracy score is: \", SVM_accuracy)"
   ]
  },
  {
   "cell_type": "code",
   "execution_count": 94,
   "id": "spoken-ceiling",
   "metadata": {},
   "outputs": [
    {
     "name": "stdout",
     "output_type": "stream",
     "text": [
      "Confusion matrix: \n",
      "[[3 0 0 ... 0 0 0]\n",
      " [0 3 0 ... 0 0 0]\n",
      " [0 0 1 ... 0 0 0]\n",
      " ...\n",
      " [0 0 0 ... 0 0 0]\n",
      " [0 0 0 ... 0 4 0]\n",
      " [0 0 0 ... 0 0 1]]\n"
     ]
    }
   ],
   "source": [
    "from sklearn import metrics\n",
    "\n",
    "cm_SVM = metrics.confusion_matrix(y_test, y_predict)\n",
    "\n",
    "print(\"Confusion matrix: \")\n",
    "print(cm_SVM)"
   ]
  },
  {
   "cell_type": "code",
   "execution_count": null,
   "id": "individual-contract",
   "metadata": {},
   "outputs": [],
   "source": []
  },
  {
   "cell_type": "markdown",
   "id": "empirical-taxation",
   "metadata": {},
   "source": [
    "g) Now, use GridSearchCV to find the best value for parameter C in your SVM. Search in this list: [0.1, 1, 10, 100, 1e3, 5e3, 1e4, 5e4, 1e5].\n",
    "\n",
    "Important Note: Remember that in part (g), we want to use cross-validation method (GridSearchCV) to find the best C.  Thus, you don’t use the X_train and X_test anymore. You have to perform another PCA: for the sake of simplicity, this time you can do the PCA on the entire dataset after normalization (X_normalized_pca = my_pca.fit_transform(X_normalized)), where X_normalized is the entire dataset after normalization, and then use it in GridSearchCV with 10-fold cross validation to find C."
   ]
  },
  {
   "cell_type": "code",
   "execution_count": 95,
   "id": "cloudy-banking",
   "metadata": {},
   "outputs": [
    {
     "data": {
      "text/plain": [
       "GridSearchCV(cv=10, estimator=SVC(C=1, gamma=0.0005, random_state=1),\n",
       "             param_grid={'C': [0.1, 1, 10, 100, 1000.0, 5000.0, 10000.0,\n",
       "                               50000.0, 100000.0]},\n",
       "             scoring='accuracy')"
      ]
     },
     "execution_count": 95,
     "metadata": {},
     "output_type": "execute_result"
    }
   ],
   "source": [
    "from sklearn.model_selection import GridSearchCV\n",
    "\n",
    "C = [0.1, 1, 10, 100, 1e3, 5e3, 1e4, 5e4, 1e5]\n",
    "param_grid = dict(C = C)\n",
    "\n",
    "X_normalized_pca = my_pca.fit_transform(scaled_X)\n",
    "\n",
    "grid = GridSearchCV(my_SVM, param_grid, cv = 10, scoring = 'accuracy')\n",
    "grid.fit(X_normalized_pca, y)"
   ]
  },
  {
   "cell_type": "code",
   "execution_count": 96,
   "id": "alike-ethics",
   "metadata": {},
   "outputs": [
    {
     "name": "stdout",
     "output_type": "stream",
     "text": [
      "The best parameter {'C': 10}\n",
      "The best accuracy score is:  0.9649999999999999\n"
     ]
    }
   ],
   "source": [
    "print(\"The best parameter\", grid.best_params_)\n",
    "print(\"The best accuracy score is: \", grid.best_score_)"
   ]
  },
  {
   "cell_type": "code",
   "execution_count": null,
   "id": "functioning-horizon",
   "metadata": {},
   "outputs": [],
   "source": []
  },
  {
   "cell_type": "code",
   "execution_count": null,
   "id": "spatial-morris",
   "metadata": {},
   "outputs": [],
   "source": []
  }
 ],
 "metadata": {
  "kernelspec": {
   "display_name": "Python 3",
   "language": "python",
   "name": "python3"
  },
  "language_info": {
   "codemirror_mode": {
    "name": "ipython",
    "version": 3
   },
   "file_extension": ".py",
   "mimetype": "text/x-python",
   "name": "python",
   "nbconvert_exporter": "python",
   "pygments_lexer": "ipython3",
   "version": "3.8.2"
  }
 },
 "nbformat": 4,
 "nbformat_minor": 5
}
