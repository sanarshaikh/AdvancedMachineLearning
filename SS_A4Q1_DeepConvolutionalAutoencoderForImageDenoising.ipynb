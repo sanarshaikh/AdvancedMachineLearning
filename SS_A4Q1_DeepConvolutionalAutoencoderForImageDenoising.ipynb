{
 "cells": [
  {
   "cell_type": "markdown",
   "id": "cooperative-panama",
   "metadata": {},
   "source": [
    "<h1> Sana Shaikh - HW4 P1 - Deep Convolutional Autoencoder for Image Denoising </h1>"
   ]
  },
  {
   "cell_type": "markdown",
   "id": "forty-pizza",
   "metadata": {},
   "source": [
    "### a- Import all of the libraries and tools that you need including the layers for your network:"
   ]
  },
  {
   "cell_type": "code",
   "execution_count": 1,
   "id": "hispanic-checklist",
   "metadata": {},
   "outputs": [],
   "source": [
    "import pandas as pd\n",
    "import numpy as np\n",
    "import tensorflow as tf\n",
    "from tensorflow import keras\n",
    "from tensorflow.keras import layers\n",
    "\n",
    "\n",
    "from keras.models import Model\n",
    "from keras.layers import Dense, Dropout, Activation, Flatten\n",
    "from keras.layers import Input, Convolution2D, MaxPooling2D, Conv2DTranspose\n",
    "\n",
    "from keras.utils import np_utils\n",
    "\n",
    "import matplotlib.image as mpimg\n",
    "import matplotlib.pyplot as plt"
   ]
  },
  {
   "cell_type": "markdown",
   "id": "rocky-hierarchy",
   "metadata": {},
   "source": [
    "### b- Import the mnist dataset and split it into testing and training:"
   ]
  },
  {
   "cell_type": "code",
   "execution_count": 2,
   "id": "virgin-catalyst",
   "metadata": {},
   "outputs": [],
   "source": [
    "from keras.datasets import mnist\n",
    "\n",
    "# since we're using Unsupervised Autoencoder, we don't use the labels y_train and y_test\n",
    "(X_train,_), (X_test,_) = mnist.load_data()"
   ]
  },
  {
   "cell_type": "code",
   "execution_count": 3,
   "id": "artistic-affiliate",
   "metadata": {},
   "outputs": [
    {
     "name": "stdout",
     "output_type": "stream",
     "text": [
      "(60000, 28, 28)\n",
      "(10000, 28, 28)\n"
     ]
    }
   ],
   "source": [
    "print(X_train.shape)\n",
    "print(X_test.shape)"
   ]
  },
  {
   "cell_type": "code",
   "execution_count": 4,
   "id": "opposed-imaging",
   "metadata": {},
   "outputs": [],
   "source": [
    "# simply scale the features to the range of [0,1]:\n",
    "\n",
    "X_train = X_train.astype('float32')\n",
    "X_test = X_test.astype('float32')\n",
    "X_train /= 255\n",
    "X_test /= 255"
   ]
  },
  {
   "cell_type": "code",
   "execution_count": 5,
   "id": "quarterly-monday",
   "metadata": {},
   "outputs": [
    {
     "name": "stdout",
     "output_type": "stream",
     "text": [
      "[[0.         0.         0.         0.         0.         0.\n",
      "  0.         0.         0.         0.         0.         0.\n",
      "  0.         0.         0.         0.         0.         0.\n",
      "  0.         0.         0.         0.         0.         0.\n",
      "  0.         0.         0.         0.        ]\n",
      " [0.         0.         0.         0.         0.         0.\n",
      "  0.         0.         0.         0.         0.         0.\n",
      "  0.         0.         0.         0.         0.         0.\n",
      "  0.         0.         0.         0.         0.         0.\n",
      "  0.         0.         0.         0.        ]\n",
      " [0.         0.         0.         0.         0.         0.\n",
      "  0.         0.         0.         0.         0.         0.\n",
      "  0.         0.         0.         0.         0.         0.\n",
      "  0.         0.         0.         0.         0.         0.\n",
      "  0.         0.         0.         0.        ]\n",
      " [0.         0.         0.         0.         0.         0.\n",
      "  0.         0.         0.         0.         0.         0.\n",
      "  0.         0.         0.         0.         0.         0.\n",
      "  0.         0.         0.         0.         0.         0.\n",
      "  0.         0.         0.         0.        ]\n",
      " [0.         0.         0.         0.         0.         0.\n",
      "  0.         0.         0.         0.         0.         0.\n",
      "  0.         0.         0.         0.         0.         0.\n",
      "  0.         0.         0.         0.         0.         0.\n",
      "  0.         0.         0.         0.        ]\n",
      " [0.         0.         0.         0.         0.         0.\n",
      "  0.         0.         0.         0.         0.         0.\n",
      "  0.01176471 0.07058824 0.07058824 0.07058824 0.49411765 0.53333336\n",
      "  0.6862745  0.10196079 0.6509804  1.         0.96862745 0.49803922\n",
      "  0.         0.         0.         0.        ]\n",
      " [0.         0.         0.         0.         0.         0.\n",
      "  0.         0.         0.11764706 0.14117648 0.36862746 0.6039216\n",
      "  0.6666667  0.99215686 0.99215686 0.99215686 0.99215686 0.99215686\n",
      "  0.88235295 0.6745098  0.99215686 0.9490196  0.7647059  0.2509804\n",
      "  0.         0.         0.         0.        ]\n",
      " [0.         0.         0.         0.         0.         0.\n",
      "  0.         0.19215687 0.93333334 0.99215686 0.99215686 0.99215686\n",
      "  0.99215686 0.99215686 0.99215686 0.99215686 0.99215686 0.9843137\n",
      "  0.3647059  0.32156864 0.32156864 0.21960784 0.15294118 0.\n",
      "  0.         0.         0.         0.        ]\n",
      " [0.         0.         0.         0.         0.         0.\n",
      "  0.         0.07058824 0.85882354 0.99215686 0.99215686 0.99215686\n",
      "  0.99215686 0.99215686 0.7764706  0.7137255  0.96862745 0.94509804\n",
      "  0.         0.         0.         0.         0.         0.\n",
      "  0.         0.         0.         0.        ]\n",
      " [0.         0.         0.         0.         0.         0.\n",
      "  0.         0.         0.3137255  0.6117647  0.41960785 0.99215686\n",
      "  0.99215686 0.8039216  0.04313726 0.         0.16862746 0.6039216\n",
      "  0.         0.         0.         0.         0.         0.\n",
      "  0.         0.         0.         0.        ]\n",
      " [0.         0.         0.         0.         0.         0.\n",
      "  0.         0.         0.         0.05490196 0.00392157 0.6039216\n",
      "  0.99215686 0.3529412  0.         0.         0.         0.\n",
      "  0.         0.         0.         0.         0.         0.\n",
      "  0.         0.         0.         0.        ]\n",
      " [0.         0.         0.         0.         0.         0.\n",
      "  0.         0.         0.         0.         0.         0.54509807\n",
      "  0.99215686 0.74509805 0.00784314 0.         0.         0.\n",
      "  0.         0.         0.         0.         0.         0.\n",
      "  0.         0.         0.         0.        ]\n",
      " [0.         0.         0.         0.         0.         0.\n",
      "  0.         0.         0.         0.         0.         0.04313726\n",
      "  0.74509805 0.99215686 0.27450982 0.         0.         0.\n",
      "  0.         0.         0.         0.         0.         0.\n",
      "  0.         0.         0.         0.        ]\n",
      " [0.         0.         0.         0.         0.         0.\n",
      "  0.         0.         0.         0.         0.         0.\n",
      "  0.13725491 0.94509804 0.88235295 0.627451   0.42352942 0.00392157\n",
      "  0.         0.         0.         0.         0.         0.\n",
      "  0.         0.         0.         0.        ]\n",
      " [0.         0.         0.         0.         0.         0.\n",
      "  0.         0.         0.         0.         0.         0.\n",
      "  0.         0.31764707 0.9411765  0.99215686 0.99215686 0.46666667\n",
      "  0.09803922 0.         0.         0.         0.         0.\n",
      "  0.         0.         0.         0.        ]\n",
      " [0.         0.         0.         0.         0.         0.\n",
      "  0.         0.         0.         0.         0.         0.\n",
      "  0.         0.         0.1764706  0.7294118  0.99215686 0.99215686\n",
      "  0.5882353  0.10588235 0.         0.         0.         0.\n",
      "  0.         0.         0.         0.        ]\n",
      " [0.         0.         0.         0.         0.         0.\n",
      "  0.         0.         0.         0.         0.         0.\n",
      "  0.         0.         0.         0.0627451  0.3647059  0.9882353\n",
      "  0.99215686 0.73333335 0.         0.         0.         0.\n",
      "  0.         0.         0.         0.        ]\n",
      " [0.         0.         0.         0.         0.         0.\n",
      "  0.         0.         0.         0.         0.         0.\n",
      "  0.         0.         0.         0.         0.         0.9764706\n",
      "  0.99215686 0.9764706  0.2509804  0.         0.         0.\n",
      "  0.         0.         0.         0.        ]\n",
      " [0.         0.         0.         0.         0.         0.\n",
      "  0.         0.         0.         0.         0.         0.\n",
      "  0.         0.         0.18039216 0.50980395 0.7176471  0.99215686\n",
      "  0.99215686 0.8117647  0.00784314 0.         0.         0.\n",
      "  0.         0.         0.         0.        ]\n",
      " [0.         0.         0.         0.         0.         0.\n",
      "  0.         0.         0.         0.         0.         0.\n",
      "  0.15294118 0.5803922  0.8980392  0.99215686 0.99215686 0.99215686\n",
      "  0.98039216 0.7137255  0.         0.         0.         0.\n",
      "  0.         0.         0.         0.        ]\n",
      " [0.         0.         0.         0.         0.         0.\n",
      "  0.         0.         0.         0.         0.09411765 0.44705883\n",
      "  0.8666667  0.99215686 0.99215686 0.99215686 0.99215686 0.7882353\n",
      "  0.30588236 0.         0.         0.         0.         0.\n",
      "  0.         0.         0.         0.        ]\n",
      " [0.         0.         0.         0.         0.         0.\n",
      "  0.         0.         0.09019608 0.25882354 0.8352941  0.99215686\n",
      "  0.99215686 0.99215686 0.99215686 0.7764706  0.31764707 0.00784314\n",
      "  0.         0.         0.         0.         0.         0.\n",
      "  0.         0.         0.         0.        ]\n",
      " [0.         0.         0.         0.         0.         0.\n",
      "  0.07058824 0.67058825 0.85882354 0.99215686 0.99215686 0.99215686\n",
      "  0.99215686 0.7647059  0.3137255  0.03529412 0.         0.\n",
      "  0.         0.         0.         0.         0.         0.\n",
      "  0.         0.         0.         0.        ]\n",
      " [0.         0.         0.         0.         0.21568628 0.6745098\n",
      "  0.8862745  0.99215686 0.99215686 0.99215686 0.99215686 0.95686275\n",
      "  0.52156866 0.04313726 0.         0.         0.         0.\n",
      "  0.         0.         0.         0.         0.         0.\n",
      "  0.         0.         0.         0.        ]\n",
      " [0.         0.         0.         0.         0.53333336 0.99215686\n",
      "  0.99215686 0.99215686 0.83137256 0.5294118  0.5176471  0.0627451\n",
      "  0.         0.         0.         0.         0.         0.\n",
      "  0.         0.         0.         0.         0.         0.\n",
      "  0.         0.         0.         0.        ]\n",
      " [0.         0.         0.         0.         0.         0.\n",
      "  0.         0.         0.         0.         0.         0.\n",
      "  0.         0.         0.         0.         0.         0.\n",
      "  0.         0.         0.         0.         0.         0.\n",
      "  0.         0.         0.         0.        ]\n",
      " [0.         0.         0.         0.         0.         0.\n",
      "  0.         0.         0.         0.         0.         0.\n",
      "  0.         0.         0.         0.         0.         0.\n",
      "  0.         0.         0.         0.         0.         0.\n",
      "  0.         0.         0.         0.        ]\n",
      " [0.         0.         0.         0.         0.         0.\n",
      "  0.         0.         0.         0.         0.         0.\n",
      "  0.         0.         0.         0.         0.         0.\n",
      "  0.         0.         0.         0.         0.         0.\n",
      "  0.         0.         0.         0.        ]]\n"
     ]
    }
   ],
   "source": [
    "print(X_train[0,:])"
   ]
  },
  {
   "cell_type": "code",
   "execution_count": 6,
   "id": "least-application",
   "metadata": {},
   "outputs": [],
   "source": [
    "#Reshape each image pixel and format appropriately: GIVES AN ERROR IN GOOGLE COLAB!!!!!!!!!!!!!!!!!!!!\n",
    "\n",
    "X_train = X_train.reshape(X_train.shape[0], 28, 28, 1)\n",
    "X_test = X_test.reshape(X_test.shape[0], 28, 28, 1)"
   ]
  },
  {
   "cell_type": "code",
   "execution_count": 7,
   "id": "italic-robertson",
   "metadata": {},
   "outputs": [
    {
     "name": "stdout",
     "output_type": "stream",
     "text": [
      "(60000, 28, 28, 1)\n",
      "(10000, 28, 28, 1)\n"
     ]
    }
   ],
   "source": [
    "print(X_train.shape)\n",
    "print(X_test.shape)"
   ]
  },
  {
   "cell_type": "markdown",
   "id": "promotional-criticism",
   "metadata": {},
   "source": [
    "### c- Add Random noise to all your training and testing samples, and save them as new datasets: "
   ]
  },
  {
   "cell_type": "code",
   "execution_count": 8,
   "id": "unnecessary-heating",
   "metadata": {},
   "outputs": [],
   "source": [
    "def noise(array):\n",
    "    noise_factor = 0.4\n",
    "    noisy_array = array + noise_factor * np.random.normal(loc=0.0, scale=1.0, size=array.shape)\n",
    "    return np.clip(noisy_array, 0.0, 1.0)\n",
    "\n",
    "noisy_X_train = noise(X_train)\n",
    "noisy_X_test = noise(X_test)"
   ]
  },
  {
   "cell_type": "markdown",
   "id": "imported-sentence",
   "metadata": {},
   "source": [
    "### d- Plot some of your samples with noise and without noise and compare them: "
   ]
  },
  {
   "cell_type": "code",
   "execution_count": 9,
   "id": "electrical-kennedy",
   "metadata": {},
   "outputs": [
    {
     "data": {
      "image/png": "[encoded data removed]",
      "text/plain": [
       "<Figure size 432x288 with 1 Axes>"
      ]
     },
     "metadata": {
      "needs_background": "light"
     },
     "output_type": "display_data"
    },
    {
     "data": {
      "image/png": "[encoded data removed]",
      "text/plain": [
       "<Figure size 432x288 with 1 Axes>"
      ]
     },
     "metadata": {
      "needs_background": "light"
     },
     "output_type": "display_data"
    }
   ],
   "source": [
    "%matplotlib inline\n",
    "\n",
    "#samples without noise\n",
    "imgplot = plt.imshow(X_train[0],cmap=plt.cm.gray)\n",
    "plt.show()\n",
    "imgplot = plt.imshow(X_train[5],cmap=plt.cm.gray)\n",
    "plt.show()"
   ]
  },
  {
   "cell_type": "code",
   "execution_count": 10,
   "id": "complimentary-conversion",
   "metadata": {},
   "outputs": [
    {
     "data": {
      "image/png": "[encoded data removed]",
      "text/plain": [
       "<Figure size 432x288 with 1 Axes>"
      ]
     },
     "metadata": {
      "needs_background": "light"
     },
     "output_type": "display_data"
    },
    {
     "data": {
      "image/png": "[encoded data removed]",
      "text/plain": [
       "<Figure size 432x288 with 1 Axes>"
      ]
     },
     "metadata": {
      "needs_background": "light"
     },
     "output_type": "display_data"
    }
   ],
   "source": [
    "#samples with noise\n",
    "imgplot = plt.imshow(noisy_X_train[0],cmap=plt.cm.gray)\n",
    "plt.show()\n",
    "imgplot = plt.imshow(noisy_X_train[5],cmap=plt.cm.gray)\n",
    "plt.show()"
   ]
  },
  {
   "cell_type": "markdown",
   "id": "distinct-walnut",
   "metadata": {},
   "source": [
    "### e- Now, we want to create our deep convolutional autoencoder for de-noising the images: "
   ]
  },
  {
   "cell_type": "code",
   "execution_count": 11,
   "id": "arbitrary-scott",
   "metadata": {},
   "outputs": [
    {
     "name": "stdout",
     "output_type": "stream",
     "text": [
      "Model: \"model\"\n",
      "_________________________________________________________________\n",
      "Layer (type)                 Output Shape              Param #   \n",
      "=================================================================\n",
      "Input (InputLayer)           [(None, 28, 28, 1)]       0         \n",
      "_________________________________________________________________\n",
      "First_Encode (Conv2D)        (None, 28, 28, 32)        320       \n",
      "_________________________________________________________________\n",
      "max_pooling2d (MaxPooling2D) (None, 14, 14, 32)        0         \n",
      "_________________________________________________________________\n",
      "Second_Encode (Conv2D)       (None, 14, 14, 32)        9248      \n",
      "_________________________________________________________________\n",
      "max_pooling2d_1 (MaxPooling2 (None, 7, 7, 32)          0         \n",
      "_________________________________________________________________\n",
      "First_Decode (Conv2DTranspos (None, 14, 14, 32)        9248      \n",
      "_________________________________________________________________\n",
      "Second_Decode (Conv2DTranspo (None, 28, 28, 32)        9248      \n",
      "_________________________________________________________________\n",
      "Final (Conv2D)               (None, 28, 28, 1)         289       \n",
      "=================================================================\n",
      "Total params: 28,353\n",
      "Trainable params: 28,353\n",
      "Non-trainable params: 0\n",
      "_________________________________________________________________\n"
     ]
    }
   ],
   "source": [
    "#The autoencoder includes an Encoder part that compresses the input, and a Decoder part that reconstructs the data\n",
    "\n",
    "input_image = Input(shape=(28, 28, 1), name=\"Input\")\n",
    "\n",
    "#Encoder:\n",
    "encode = Convolution2D(32, (3,3), activation=\"relu\", padding=\"same\", name=\"First_Encode\")(input_image)\n",
    "encode = MaxPooling2D((2,2), padding=\"same\")(encode)\n",
    "encode = Convolution2D(32, (3,3), activation=\"relu\", padding=\"same\", name=\"Second_Encode\")(encode)\n",
    "encode = MaxPooling2D((2,2), padding=\"same\")(encode)\n",
    "\n",
    "# encoder = Model(input_img, encode)?\n",
    "\n",
    "#Decoder: encoded layer goes to the decoder as input in the first layer\n",
    "decode = Conv2DTranspose(32, (3,3), strides=2, activation=\"relu\", padding=\"same\", name=\"First_Decode\")(encode)\n",
    "decode = Conv2DTranspose(32, (3,3), strides=2, activation=\"relu\", padding=\"same\", name=\"Second_Decode\")(decode)\n",
    "decode = Convolution2D(1, (3,3), activation=\"sigmoid\", padding=\"same\", name=\"Final\")(decode)\n",
    "\n",
    "\n",
    "autoencoder = Model(input_image, decode)\n",
    "autoencoder.summary()"
   ]
  },
  {
   "cell_type": "markdown",
   "id": "painted-diameter",
   "metadata": {},
   "source": [
    "### f- Compile the model with loss='binary_crossentropy', optimizer='adam'"
   ]
  },
  {
   "cell_type": "code",
   "execution_count": 12,
   "id": "stable-necessity",
   "metadata": {},
   "outputs": [],
   "source": [
    "autoencoder.compile(loss='binary_crossentropy', optimizer='adam', metrics=['accuracy'])\n",
    "#autoencoder.summary()"
   ]
  },
  {
   "cell_type": "markdown",
   "id": "british-australian",
   "metadata": {},
   "source": [
    "### g- Train the model ONLY using the training data. Remember, we don’t use y (label) here. \n",
    "### Our input will be noisy_X_train and output will be X_train (reconstruction). We use the batch_size=128 and epochs=5:"
   ]
  },
  {
   "cell_type": "code",
   "execution_count": 13,
   "id": "architectural-color",
   "metadata": {
    "scrolled": true
   },
   "outputs": [
    {
     "name": "stdout",
     "output_type": "stream",
     "text": [
      "Epoch 1/5\n",
      "469/469 [==============================] - 54s 112ms/step - loss: 0.2979 - accuracy: 0.7930\n",
      "Epoch 2/5\n",
      "469/469 [==============================] - 51s 108ms/step - loss: 0.1032 - accuracy: 0.8126\n",
      "Epoch 3/5\n",
      "469/469 [==============================] - 54s 115ms/step - loss: 0.0975 - accuracy: 0.8133\n",
      "Epoch 4/5\n",
      "469/469 [==============================] - 74s 157ms/step - loss: 0.0949 - accuracy: 0.8134\n",
      "Epoch 5/5\n",
      "469/469 [==============================] - 74s 158ms/step - loss: 0.0932 - accuracy: 0.8138\n"
     ]
    }
   ],
   "source": [
    "history = autoencoder.fit(noisy_X_train, X_train, batch_size=128, epochs=5)"
   ]
  },
  {
   "cell_type": "markdown",
   "id": "golden-strip",
   "metadata": {},
   "source": [
    "### h- Now, we make a prediction on our noisy testing set to de-noise it. The output of our prediction will be the de-noised version of our noisy testing set:"
   ]
  },
  {
   "cell_type": "code",
   "execution_count": 14,
   "id": "further-destruction",
   "metadata": {},
   "outputs": [],
   "source": [
    "prediction = autoencoder.predict(noisy_X_test)"
   ]
  },
  {
   "cell_type": "code",
   "execution_count": 15,
   "id": "recreational-multimedia",
   "metadata": {},
   "outputs": [
    {
     "data": {
      "image/png": "[encoded data removed]",
      "text/plain": [
       "<Figure size 432x288 with 1 Axes>"
      ]
     },
     "metadata": {
      "needs_background": "light"
     },
     "output_type": "display_data"
    },
    {
     "data": {
      "image/png": "[encoded data removed]",
      "text/plain": [
       "<Figure size 432x288 with 1 Axes>"
      ]
     },
     "metadata": {
      "needs_background": "light"
     },
     "output_type": "display_data"
    }
   ],
   "source": [
    "#display a noisy testing sample\n",
    "imgplot = plt.imshow(noisy_X_test[9999],cmap=plt.cm.gray)\n",
    "plt.show()\n",
    "#display the same de-noised testing sample\n",
    "imgplot = plt.imshow(prediction[9999],cmap=plt.cm.gray)\n",
    "plt.show()"
   ]
  },
  {
   "cell_type": "markdown",
   "id": "bizarre-spring",
   "metadata": {},
   "source": [
    "### i- It is time to see the Magic! We plot 10 random images of our testing set before and after de-noising to see how amazing our model is in cleaning noisy images."
   ]
  },
  {
   "cell_type": "code",
   "execution_count": 17,
   "id": "decreased-driver",
   "metadata": {},
   "outputs": [
    {
     "data": {
      "image/png": "[encoded data removed]",
      "text/plain": [
       "<Figure size 1440x360 with 20 Axes>"
      ]
     },
     "metadata": {
      "needs_background": "light"
     },
     "output_type": "display_data"
    }
   ],
   "source": [
    "#display random noisy images from our testing set and their respective de-noised images below them\n",
    "\n",
    "same_elem = np.random.randint(len(noisy_X_test), size = 10)\n",
    "noisy = noisy_X_test[same_elem]\n",
    "predict = prediction[same_elem]\n",
    "\n",
    "plt.figure(figsize = (20, 5))\n",
    "\n",
    "for i, (img1, img2) in enumerate(zip(noisy, predict)):\n",
    "    ax = plt.subplot(2, 10, i + 1)\n",
    "    plt.imshow(img1.reshape(28, 28, 1))\n",
    "    plt.gray()\n",
    "    ax = plt.subplot(2, 10, i + 1 + 10)\n",
    "    plt.imshow(img2.reshape(28, 28, 1))\n",
    "    plt.gray()\n",
    "plt.show()"
   ]
  },
  {
   "cell_type": "code",
   "execution_count": null,
   "id": "hispanic-regard",
   "metadata": {},
   "outputs": [],
   "source": []
  }
 ],
 "metadata": {
  "kernelspec": {
   "display_name": "Python 3",
   "language": "python",
   "name": "python3"
  },
  "language_info": {
   "codemirror_mode": {
    "name": "ipython",
    "version": 3
   },
   "file_extension": ".py",
   "mimetype": "text/x-python",
   "name": "python",
   "nbconvert_exporter": "python",
   "pygments_lexer": "ipython3",
   "version": "3.8.2"
  }
 },
 "nbformat": 4,
 "nbformat_minor": 5
}
